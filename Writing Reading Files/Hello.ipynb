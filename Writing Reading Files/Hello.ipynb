{
 "metadata": {
  "language_info": {
   "codemirror_mode": {
    "name": "ipython",
    "version": 3
   },
   "file_extension": ".py",
   "mimetype": "text/x-python",
   "name": "python",
   "nbconvert_exporter": "python",
   "pygments_lexer": "ipython3",
   "version": "3.6.5-final"
  },
  "orig_nbformat": 2,
  "kernelspec": {
   "name": "python3",
   "display_name": "Python 3.6.5 64-bit",
   "metadata": {
    "interpreter": {
     "hash": "958f64694a8eccc99fb560b9ee6f7e0352cafc43e0d21e510ec4e64ae5aaf21d"
    }
   }
  }
 },
 "nbformat": 4,
 "nbformat_minor": 2,
 "cells": [
  {
   "cell_type": "code",
   "execution_count": 3,
   "metadata": {},
   "outputs": [],
   "source": [
    "guests = open(\"guests.txt\",\"w\")\n",
    "initial_guests = [\"Abang\",\"Bola\",\"Ball\"]\n",
    "for i in initial_guests:\n",
    "    guests.write(i+\"\\n\")\n",
    "guests.close()"
   ]
  },
  {
   "cell_type": "code",
   "execution_count": 4,
   "metadata": {},
   "outputs": [
    {
     "output_type": "stream",
     "name": "stdout",
     "text": [
      "Abang\n\nBola\n\nBall\n\n"
     ]
    }
   ],
   "source": [
    "with open(\"guests.txt\",\"r\") as f:\n",
    "    for l in f:\n",
    "        print(l)"
   ]
  },
  {
   "cell_type": "code",
   "execution_count": 6,
   "metadata": {},
   "outputs": [],
   "source": [
    "new_guests = [\"Country\",\"BOX\"]\n",
    "with open(\"guests.txt\",\"a\") as f:\n",
    "    for l in new_guests:\n",
    "        f.write(l+\"\\n\")"
   ]
  },
  {
   "cell_type": "code",
   "execution_count": 7,
   "metadata": {},
   "outputs": [],
   "source": [
    "import os"
   ]
  },
  {
   "cell_type": "code",
   "execution_count": 19,
   "metadata": {},
   "outputs": [
    {
     "output_type": "execute_result",
     "data": {
      "text/plain": [
       "['boo', 'guests.txt', 'Hello.ipynb']"
      ]
     },
     "metadata": {},
     "execution_count": 19
    }
   ],
   "source": [
    "os.listdir()"
   ]
  },
  {
   "cell_type": "code",
   "execution_count": 20,
   "metadata": {},
   "outputs": [
    {
     "output_type": "execute_result",
     "data": {
      "text/plain": [
       "['index.html']"
      ]
     },
     "metadata": {},
     "execution_count": 20
    }
   ],
   "source": [
    "os.listdir(\"boo\")"
   ]
  },
  {
   "cell_type": "code",
   "execution_count": 9,
   "metadata": {},
   "outputs": [
    {
     "output_type": "execute_result",
     "data": {
      "text/plain": [
       "1615196815.0174115"
      ]
     },
     "metadata": {},
     "execution_count": 9
    }
   ],
   "source": [
    "os.path.getmtime(\"guests.txt\")"
   ]
  },
  {
   "cell_type": "code",
   "execution_count": 15,
   "metadata": {},
   "outputs": [
    {
     "output_type": "execute_result",
     "data": {
      "text/plain": [
       "46"
      ]
     },
     "metadata": {},
     "execution_count": 15
    }
   ],
   "source": [
    "from datetime import datetime\n",
    "tmsp = os.path.getmtime(\"guests.txt\")\n",
    "datetime.fromtimestamp(tmsp).minute"
   ]
  },
  {
   "cell_type": "code",
   "execution_count": 17,
   "metadata": {},
   "outputs": [
    {
     "output_type": "execute_result",
     "data": {
      "text/plain": [
       "'d:\\\\LearnITAutomation\\\\Writing Reading Files\\\\guests.txt'"
      ]
     },
     "metadata": {},
     "execution_count": 17
    }
   ],
   "source": [
    "os.path.abspath(\"guests.txt\")"
   ]
  },
  {
   "cell_type": "code",
   "execution_count": 18,
   "metadata": {},
   "outputs": [
    {
     "output_type": "execute_result",
     "data": {
      "text/plain": [
       "False"
      ]
     },
     "metadata": {},
     "execution_count": 18
    }
   ],
   "source": [
    "os.path.isfile(\"boo\")"
   ]
  },
  {
   "cell_type": "code",
   "execution_count": 24,
   "metadata": {},
   "outputs": [
    {
     "output_type": "execute_result",
     "data": {
      "text/plain": [
       "['boo', 'guests.txt', 'Hello.ipynb']"
      ]
     },
     "metadata": {},
     "execution_count": 24
    }
   ],
   "source": [
    "os.listdir()"
   ]
  },
  {
   "cell_type": "code",
   "execution_count": 25,
   "metadata": {},
   "outputs": [],
   "source": [
    "def check_file_or_folder(name_folder=\"\"):\n",
    "    if name_folder=\"\":\n",
    "        ld = os.listdir()\n",
    "    else:\n",
    "        ld = os.listdir(name_folder)\n",
    "    for l in ld:\n",
    "        if os.path.isfile(l):\n",
    "            print(f\"{l} is file\")\n",
    "        else:\n",
    "            print(f\"{l} is folder\")\n",
    "            new_dir = os.path.join(name_folder,l)\n",
    "            check_file_or_folder(new_dir)"
   ]
  },
  {
   "cell_type": "code",
   "execution_count": null,
   "metadata": {},
   "outputs": [],
   "source": [
    "check_file_or_folder()"
   ]
  }
 ]
}